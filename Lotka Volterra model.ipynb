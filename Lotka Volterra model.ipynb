{
 "cells": [
  {
   "cell_type": "code",
   "execution_count": 80,
   "metadata": {},
   "outputs": [],
   "source": [
    "%matplotlib inline\n",
    "import matplotlib\n",
    "import matplotlib.pyplot as plt\n",
    "import matplotlib.ticker as mtick\n",
    "# from matplotlib import rc\n",
    "from IPython.display import display, Image\n",
    "\n",
    "import os\n",
    "import operator\n",
    "import math\n",
    "import json\n",
    "import subprocess as sub\n",
    "import pandas as pd\n",
    "import numpy as np\n",
    "import seaborn as sns\n",
    "from random import shuffle\n",
    "from textwrap import wrap\n",
    "\n",
    "# from skbio.stats.composition import closure, clr, ilr, perturb_inv\n",
    "\n",
    "import sklearn\n",
    "from sklearn.manifold import TSNE\n",
    "from scipy.spatial.distance import *\n",
    "from scipy.stats import levene, ttest_ind, fisher_exact, pearsonr, linregress\n",
    "from scipy.stats.mstats import gmean\n",
    "\n",
    "from numpy.linalg import eig, inv\n",
    "from matplotlib.patches import Ellipse\n",
    "\n",
    "# https://scipy-cookbook.readthedocs.io/items/LoktaVolterraTutorial.html\n"
   ]
  },
  {
   "cell_type": "code",
   "execution_count": 81,
   "metadata": {},
   "outputs": [],
   "source": [
    "a = 1.\n",
    "b = 0.1\n",
    "c = 1.5\n",
    "d = 0.75\n",
    "def dX_dt(X, t=0):\n",
    "    \"\"\" Return the growth rate of fox and rabbit populations. \"\"\"\n",
    "    return np.array([ a*X[0] -   b*X[0]*X[1] ,\n",
    "                  -c*X[1] + d*b*X[0]*X[1] ])\n",
    "\n",
    "def d2X_dt2(X, t=0):\n",
    "    \"\"\" Return the Jacobian matrix evaluated in X. \"\"\"\n",
    "    return np.array([[a -b*X[1],   -b*X[0]     ],\n",
    "                     [b*d*X[1] ,   -c +b*d*X[0]] ])"
   ]
  },
  {
   "cell_type": "code",
   "execution_count": 82,
   "metadata": {},
   "outputs": [
    {
     "name": "stdout",
     "output_type": "stream",
     "text": [
      "[[ 1.  -0. ]\n",
      " [ 0.  -1.5]]\n"
     ]
    }
   ],
   "source": [
    "X_f0 = np.array([     0. ,  0.])\n",
    "X_f1 = np.array([ c/(d*b), a/b])\n",
    "assert all(dX_dt(X_f0) == np.zeros(2) ) and all(dX_dt(X_f1) == np.zeros(2)) # => True\n",
    "A_f0 = d2X_dt2(X_f0)\n",
    "print(A_f0)"
   ]
  },
  {
   "cell_type": "code",
   "execution_count": 83,
   "metadata": {},
   "outputs": [
    {
     "data": {
      "text/plain": [
       "'Integration successful.'"
      ]
     },
     "execution_count": 83,
     "metadata": {},
     "output_type": "execute_result"
    }
   ],
   "source": [
    "from scipy import integrate\n",
    "t = np.linspace(0, 15,  1000)              # time\n",
    "X0 = np.array([10, 5])                     # initials conditions: 10 rabbits and 5 foxes\n",
    "X, infodict = integrate.odeint(dX_dt, X0, t, full_output=True)\n",
    "X = pd.DataFrame(X,columns=['A','B'])\n",
    "infodict['message']\n"
   ]
  },
  {
   "cell_type": "code",
   "execution_count": 89,
   "metadata": {},
   "outputs": [
    {
     "name": "stdout",
     "output_type": "stream",
     "text": [
      "(1000, 2)\n"
     ]
    },
    {
     "data": {
      "text/html": [
       "<div>\n",
       "<style scoped>\n",
       "    .dataframe tbody tr th:only-of-type {\n",
       "        vertical-align: middle;\n",
       "    }\n",
       "\n",
       "    .dataframe tbody tr th {\n",
       "        vertical-align: top;\n",
       "    }\n",
       "\n",
       "    .dataframe thead th {\n",
       "        text-align: right;\n",
       "    }\n",
       "</style>\n",
       "<table border=\"1\" class=\"dataframe\">\n",
       "  <thead>\n",
       "    <tr style=\"text-align: right;\">\n",
       "      <th></th>\n",
       "      <th>A</th>\n",
       "      <th>B</th>\n",
       "    </tr>\n",
       "  </thead>\n",
       "  <tbody>\n",
       "    <tr>\n",
       "      <th>0</th>\n",
       "      <td>10.000000</td>\n",
       "      <td>5.000000</td>\n",
       "    </tr>\n",
       "    <tr>\n",
       "      <th>1</th>\n",
       "      <td>10.075781</td>\n",
       "      <td>4.944220</td>\n",
       "    </tr>\n",
       "    <tr>\n",
       "      <th>2</th>\n",
       "      <td>10.152978</td>\n",
       "      <td>4.889483</td>\n",
       "    </tr>\n",
       "    <tr>\n",
       "      <th>3</th>\n",
       "      <td>10.231600</td>\n",
       "      <td>4.835777</td>\n",
       "    </tr>\n",
       "    <tr>\n",
       "      <th>4</th>\n",
       "      <td>10.311655</td>\n",
       "      <td>4.783087</td>\n",
       "    </tr>\n",
       "  </tbody>\n",
       "</table>\n",
       "</div>"
      ],
      "text/plain": [
       "           A         B\n",
       "0  10.000000  5.000000\n",
       "1  10.075781  4.944220\n",
       "2  10.152978  4.889483\n",
       "3  10.231600  4.835777\n",
       "4  10.311655  4.783087"
      ]
     },
     "metadata": {},
     "output_type": "display_data"
    },
    {
     "data": {
      "text/html": [
       "<div>\n",
       "<style scoped>\n",
       "    .dataframe tbody tr th:only-of-type {\n",
       "        vertical-align: middle;\n",
       "    }\n",
       "\n",
       "    .dataframe tbody tr th {\n",
       "        vertical-align: top;\n",
       "    }\n",
       "\n",
       "    .dataframe thead th {\n",
       "        text-align: right;\n",
       "    }\n",
       "</style>\n",
       "<table border=\"1\" class=\"dataframe\">\n",
       "  <thead>\n",
       "    <tr style=\"text-align: right;\">\n",
       "      <th></th>\n",
       "      <th>A</th>\n",
       "      <th>B</th>\n",
       "    </tr>\n",
       "  </thead>\n",
       "  <tbody>\n",
       "    <tr>\n",
       "      <th>0</th>\n",
       "      <td>11.318878</td>\n",
       "      <td>6.315784</td>\n",
       "    </tr>\n",
       "    <tr>\n",
       "      <th>1</th>\n",
       "      <td>12.067403</td>\n",
       "      <td>4.883728</td>\n",
       "    </tr>\n",
       "    <tr>\n",
       "      <th>2</th>\n",
       "      <td>11.486831</td>\n",
       "      <td>5.322128</td>\n",
       "    </tr>\n",
       "    <tr>\n",
       "      <th>3</th>\n",
       "      <td>10.400748</td>\n",
       "      <td>5.254664</td>\n",
       "    </tr>\n",
       "    <tr>\n",
       "      <th>4</th>\n",
       "      <td>10.797791</td>\n",
       "      <td>4.821425</td>\n",
       "    </tr>\n",
       "  </tbody>\n",
       "</table>\n",
       "</div>"
      ],
      "text/plain": [
       "           A         B\n",
       "0  11.318878  6.315784\n",
       "1  12.067403  4.883728\n",
       "2  11.486831  5.322128\n",
       "3  10.400748  5.254664\n",
       "4  10.797791  4.821425"
      ]
     },
     "metadata": {},
     "output_type": "display_data"
    }
   ],
   "source": [
    "# from random import s\n",
    "print(X.shape)\n",
    "\n",
    "X_sparse = X.copy()\n",
    "X_sparse[ X_sparse < 4 ] = 0\n",
    "display(X_sparse.head())\n",
    "\n",
    "X_noisy = X.copy()\n",
    "X_noisy = X_noisy*np.random.normal(1,0.1,size=X_noisy.shape)\n",
    "X_noisy[ X_noisy < 0 ] = 0\n",
    "display(X_noisy.head())\n",
    "\n",
    "X_freq = X.copy()\n",
    "X_freq = X_freq.loc[np.arange(0,len(X),len(X)/10)]\n",
    "# display(X_freq.tail())"
   ]
  },
  {
   "cell_type": "code",
   "execution_count": 93,
   "metadata": {
    "scrolled": false
   },
   "outputs": [
    {
     "name": "stdout",
     "output_type": "stream",
     "text": [
      "(2, 1000)\n"
     ]
    },
    {
     "data": {
      "image/png": "[encoded data removed]",
      "text/plain": [
       "<Figure size 576x360 with 2 Axes>"
      ]
     },
     "metadata": {},
     "output_type": "display_data"
    }
   ],
   "source": [
    "sns.set_style('white')\n",
    "\n",
    "# with X_sparse as X:\n",
    "    \n",
    "# X_ = X\n",
    "# X_ = X_sparse\n",
    "# X_ = X_noisy\n",
    "X_ = X_freq\n",
    "    \n",
    "t_ = np.linspace(0,15, len(X_))\n",
    "X_ra = X_.divide(X_.sum(1),axis=0)\n",
    "# t_ \n",
    "\n",
    "print(X.T.shape)\n",
    "\n",
    "fig = plt.figure(figsize=(8,5))\n",
    "\n",
    "ax = plt.subplot(2,1,1)\n",
    "plt.plot(t_, X_['A'], 'blue', label='A')\n",
    "plt.plot(t_, X_['B'], 'orange', label='B')\n",
    "plt.title('Evolution of microbe A and microbe B populations',fontsize=16)\n",
    "plt.ylabel('Absolute\\nabundance',fontsize=18)\n",
    "plt.xticks(fontsize=20)\n",
    "plt.yticks(fontsize=20)\n",
    "plt.xlim(0,15)\n",
    "plt.grid()\n",
    "\n",
    "ax = plt.subplot(2,1,2)\n",
    "plt.stackplot(t_,X_ra.T)\n",
    "plt.xlabel('time',fontsize=18)\n",
    "plt.ylabel('Relative\\nabundance',fontsize=18)\n",
    "plt.axis([0,15,0,1])\n",
    "plt.xticks(np.arange(0,16,2),fontsize=20)\n",
    "plt.yticks([0,0.5,1], ['0%','50%','100%'],fontsize=20)\n",
    "\n",
    "\n",
    "plt.show()"
   ]
  },
  {
   "cell_type": "code",
   "execution_count": 6,
   "metadata": {},
   "outputs": [],
   "source": []
  },
  {
   "cell_type": "code",
   "execution_count": 13,
   "metadata": {},
   "outputs": [
    {
     "name": "stdout",
     "output_type": "stream",
     "text": [
      "[ 0.   0.1  0.2  0.3  0.4  0.5  0.6  0.7  0.8  0.9  1.   1.1  1.2  1.3\n",
      "  1.4  1.5  1.6  1.7  1.8  1.9  2.   2.1  2.2  2.3  2.4  2.5  2.6  2.7\n",
      "  2.8  2.9  3.   3.1  3.2  3.3  3.4  3.5  3.6  3.7  3.8  3.9  4.   4.1\n",
      "  4.2  4.3  4.4  4.5  4.6  4.7  4.8  4.9  5.   5.1  5.2  5.3  5.4  5.5\n",
      "  5.6  5.7  5.8  5.9  6.   6.1  6.2  6.3  6.4  6.5  6.6  6.7  6.8  6.9\n",
      "  7.   7.1  7.2  7.3  7.4  7.5  7.6  7.7  7.8  7.9  8.   8.1  8.2  8.3\n",
      "  8.4  8.5  8.6  8.7  8.8  8.9  9.   9.1  9.2  9.3  9.4  9.5  9.6  9.7\n",
      "  9.8  9.9 10.  10.1 10.2 10.3 10.4 10.5 10.6 10.7 10.8 10.9 11.  11.1\n",
      " 11.2 11.3 11.4 11.5 11.6 11.7 11.8 11.9 12.  12.1 12.2 12.3 12.4 12.5\n",
      " 12.6 12.7 12.8 12.9 13.  13.1 13.2 13.3 13.4 13.5 13.6 13.7 13.8 13.9\n",
      " 14.  14.1 14.2 14.3 14.4 14.5 14.6 14.7 14.8 14.9 15.  15.1 15.2 15.3\n",
      " 15.4 15.5 15.6 15.7 15.8 15.9 16.  16.1 16.2 16.3 16.4 16.5 16.6 16.7\n",
      " 16.8 16.9 17.  17.1 17.2 17.3 17.4 17.5 17.6 17.7 17.8 17.9 18.  18.1\n",
      " 18.2 18.3 18.4 18.5 18.6 18.7 18.8 18.9 19.  19.1 19.2 19.3 19.4 19.5\n",
      " 19.6 19.7 19.8 19.9 20.  20.1 20.2 20.3 20.4 20.5 20.6 20.7 20.8 20.9\n",
      " 21.  21.1 21.2 21.3 21.4 21.5 21.6 21.7 21.8 21.9 22.  22.1 22.2 22.3\n",
      " 22.4 22.5 22.6 22.7 22.8 22.9 23.  23.1 23.2 23.3 23.4 23.5 23.6 23.7\n",
      " 23.8 23.9 24.  24.1 24.2 24.3 24.4 24.5 24.6 24.7 24.8 24.9 25.  25.1\n",
      " 25.2 25.3 25.4 25.5 25.6 25.7 25.8 25.9 26.  26.1 26.2 26.3 26.4 26.5\n",
      " 26.6 26.7 26.8 26.9 27.  27.1 27.2 27.3 27.4 27.5 27.6 27.7 27.8 27.9\n",
      " 28.  28.1 28.2 28.3 28.4 28.5 28.6 28.7 28.8 28.9 29.  29.1 29.2 29.3\n",
      " 29.4 29.5 29.6 29.7 29.8 29.9]\n",
      "[2. 2.]\n"
     ]
    },
    {
     "ename": "IndexError",
     "evalue": "index 2 is out of bounds for axis 0 with size 2",
     "output_type": "error",
     "traceback": [
      "\u001b[0;31m---------------------------------------------------------------------------\u001b[0m",
      "\u001b[0;31mIndexError\u001b[0m                                Traceback (most recent call last)",
      "\u001b[0;32m<ipython-input-13-fe17d16ff059>\u001b[0m in \u001b[0;36m<module>\u001b[0;34m\u001b[0m\n\u001b[1;32m     13\u001b[0m \u001b[0mprint\u001b[0m\u001b[0;34m(\u001b[0m\u001b[0mr\u001b[0m\u001b[0;34m)\u001b[0m\u001b[0;34m\u001b[0m\u001b[0;34m\u001b[0m\u001b[0m\n\u001b[1;32m     14\u001b[0m \u001b[0;32mfor\u001b[0m \u001b[0mt\u001b[0m \u001b[0;32min\u001b[0m \u001b[0mtpoints\u001b[0m\u001b[0;34m:\u001b[0m\u001b[0;34m\u001b[0m\u001b[0;34m\u001b[0m\u001b[0m\n\u001b[0;32m---> 15\u001b[0;31m     \u001b[0mxpoints\u001b[0m \u001b[0;34m+=\u001b[0m \u001b[0;34m[\u001b[0m\u001b[0mr\u001b[0m\u001b[0;34m[\u001b[0m\u001b[0;36m2\u001b[0m\u001b[0;34m]\u001b[0m\u001b[0;34m]\u001b[0m\u001b[0;34m\u001b[0m\u001b[0;34m\u001b[0m\u001b[0m\n\u001b[0m\u001b[1;32m     16\u001b[0m     \u001b[0mypoints\u001b[0m \u001b[0;34m+=\u001b[0m \u001b[0;34m[\u001b[0m\u001b[0mr\u001b[0m\u001b[0;34m[\u001b[0m\u001b[0;36m2\u001b[0m\u001b[0;34m]\u001b[0m\u001b[0;34m]\u001b[0m\u001b[0;34m\u001b[0m\u001b[0;34m\u001b[0m\u001b[0m\n\u001b[1;32m     17\u001b[0m     \u001b[0mr\u001b[0m \u001b[0;34m+=\u001b[0m \u001b[0mrk4\u001b[0m\u001b[0;34m(\u001b[0m\u001b[0mf\u001b[0m\u001b[0;34m,\u001b[0m \u001b[0mr\u001b[0m\u001b[0;34m,\u001b[0m \u001b[0mt\u001b[0m\u001b[0;34m,\u001b[0m \u001b[0mh\u001b[0m\u001b[0;34m)\u001b[0m\u001b[0;34m\u001b[0m\u001b[0;34m\u001b[0m\u001b[0m\n",
      "\u001b[0;31mIndexError\u001b[0m: index 2 is out of bounds for axis 0 with size 2"
     ]
    }
   ],
   "source": []
  },
  {
   "cell_type": "code",
   "execution_count": null,
   "metadata": {},
   "outputs": [],
   "source": []
  }
 ],
 "metadata": {
  "kernelspec": {
   "display_name": "Python 3",
   "language": "python",
   "name": "python3"
  },
  "language_info": {
   "codemirror_mode": {
    "name": "ipython",
    "version": 3
   },
   "file_extension": ".py",
   "mimetype": "text/x-python",
   "name": "python",
   "nbconvert_exporter": "python",
   "pygments_lexer": "ipython3",
   "version": "3.6.8"
  }
 },
 "nbformat": 4,
 "nbformat_minor": 2
}
